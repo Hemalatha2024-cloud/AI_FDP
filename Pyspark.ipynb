{
  "nbformat": 4,
  "nbformat_minor": 0,
  "metadata": {
    "colab": {
      "provenance": [],
      "authorship_tag": "ABX9TyOtim2rlDcMgMLvOUcdNJvH",
      "include_colab_link": true
    },
    "kernelspec": {
      "name": "python3",
      "display_name": "Python 3"
    },
    "language_info": {
      "name": "python"
    }
  },
  "cells": [
    {
      "cell_type": "markdown",
      "metadata": {
        "id": "view-in-github",
        "colab_type": "text"
      },
      "source": [
        "<a href=\"https://colab.research.google.com/github/Hemalatha2024-cloud/AI_FDP/blob/Pyspark/Pyspark.ipynb\" target=\"_parent\"><img src=\"https://colab.research.google.com/assets/colab-badge.svg\" alt=\"Open In Colab\"/></a>"
      ]
    },
    {
      "cell_type": "markdown",
      "source": [
        "**# Initialize SparkSession**"
      ],
      "metadata": {
        "id": "pn9hpKNxd6_i"
      }
    },
    {
      "cell_type": "code",
      "execution_count": 25,
      "metadata": {
        "id": "l5RjuC18BJ1X"
      },
      "outputs": [],
      "source": [
        "from pyspark.sql import SparkSession\n",
        "import pandas as pd\n",
        "import pyspark.pandas as ps\n",
        "# Initialize SparkSession\n",
        "spark = SparkSession.builder.appName(\"DataFrame Example\").getOrCreate()\n"
      ]
    },
    {
      "cell_type": "markdown",
      "source": [
        "**Sample data assisgning and Creating and Displaying Dataframe**"
      ],
      "metadata": {
        "id": "u_UuvF8NeBc1"
      }
    },
    {
      "cell_type": "code",
      "source": [
        "# Sample data\n",
        "data = [(\"Alice\", 29), (\"Bob\", 31), (\"Cathy\", 25)]\n",
        "\n",
        "# Define schema\n",
        "columns = [\"Name\", \"Age\"]\n",
        "\n",
        "# Create DataFrame\n",
        "df = spark.createDataFrame(data, schema=columns)\n",
        "df.show()"
      ],
      "metadata": {
        "colab": {
          "base_uri": "https://localhost:8080/"
        },
        "id": "l1V9as_-BYmJ",
        "outputId": "9e0655a9-7162-4b3d-84d0-d46770dbe430"
      },
      "execution_count": 4,
      "outputs": [
        {
          "output_type": "stream",
          "name": "stdout",
          "text": [
            "+-----+---+\n",
            "| Name|Age|\n",
            "+-----+---+\n",
            "|Alice| 29|\n",
            "|  Bob| 31|\n",
            "|Cathy| 25|\n",
            "+-----+---+\n",
            "\n"
          ]
        }
      ]
    },
    {
      "cell_type": "markdown",
      "source": [
        "**Display the Selected columns in DataFrame**"
      ],
      "metadata": {
        "id": "JQg852ZBeSIt"
      }
    },
    {
      "cell_type": "code",
      "source": [
        " df.select(\"Name\").show()"
      ],
      "metadata": {
        "colab": {
          "base_uri": "https://localhost:8080/"
        },
        "id": "9b-N2MebB4V7",
        "outputId": "01519db9-273a-49d3-fe8b-81c9eb1c84b6"
      },
      "execution_count": 26,
      "outputs": [
        {
          "output_type": "stream",
          "name": "stdout",
          "text": [
            "+-----+\n",
            "| Name|\n",
            "+-----+\n",
            "|Alice|\n",
            "|  Bob|\n",
            "|Cathy|\n",
            "+-----+\n",
            "\n"
          ]
        }
      ]
    },
    {
      "cell_type": "markdown",
      "source": [
        "**Display the Dataframe with Conditional Statement**"
      ],
      "metadata": {
        "id": "_t4aJhLxeg3Z"
      }
    },
    {
      "cell_type": "code",
      "source": [
        "  df.filter(df.Age > 30).show()"
      ],
      "metadata": {
        "colab": {
          "base_uri": "https://localhost:8080/"
        },
        "id": "V3P7M1-SB8K0",
        "outputId": "64e3a1bd-3919-4965-86cf-fcb7c84a274a"
      },
      "execution_count": 6,
      "outputs": [
        {
          "output_type": "stream",
          "name": "stdout",
          "text": [
            "+----+---+\n",
            "|Name|Age|\n",
            "+----+---+\n",
            "| Bob| 31|\n",
            "+----+---+\n",
            "\n"
          ]
        }
      ]
    },
    {
      "cell_type": "markdown",
      "source": [
        "**Display the Dataframe by Goupby Conditions**"
      ],
      "metadata": {
        "id": "XyQ455JYemXi"
      }
    },
    {
      "cell_type": "code",
      "source": [
        "  df.groupBy(\"Age\").count().show()"
      ],
      "metadata": {
        "colab": {
          "base_uri": "https://localhost:8080/"
        },
        "id": "8qKhi6zXCCaY",
        "outputId": "d8c5ceed-a8fe-4901-bfb9-d1d41a9fad30"
      },
      "execution_count": 7,
      "outputs": [
        {
          "output_type": "stream",
          "name": "stdout",
          "text": [
            "+---+-----+\n",
            "|Age|count|\n",
            "+---+-----+\n",
            "| 29|    1|\n",
            "| 31|    1|\n",
            "| 25|    1|\n",
            "+---+-----+\n",
            "\n"
          ]
        }
      ]
    },
    {
      "cell_type": "markdown",
      "source": [
        "**Read CSV file into DataFrame**"
      ],
      "metadata": {
        "id": "27jLKLureteR"
      }
    },
    {
      "cell_type": "code",
      "source": [
        "\n",
        "df_csv = spark.read.csv(\"/content/synthetic_staff_productivity (1).csv\", header=True, inferSchema=True)\n",
        "df_csv.show()"
      ],
      "metadata": {
        "colab": {
          "base_uri": "https://localhost:8080/"
        },
        "id": "G2aWWN6kCJrr",
        "outputId": "585a6e83-9879-46cc-fc5f-204f4b6248c2"
      },
      "execution_count": 27,
      "outputs": [
        {
          "output_type": "stream",
          "name": "stdout",
          "text": [
            "+--------+-----------------+---------------+--------------+-------------------+--------------------------+---------------+------------------------+----------------+----------------+-------------------+-----------------------+\n",
            "|Staff ID|             Name|           Role|Attendance (%)|Task Completion (%)|Student Feedback (Avg /10)|Research Papers|Grants/Funding (₹ Lakhs)|Extra Activities|Work Quality (%)|Response Time (Hrs)|Training Hours Attended|\n",
            "+--------+-----------------+---------------+--------------+-------------------+--------------------------+---------------+------------------------+----------------+----------------+-------------------+-----------------------+\n",
            "| STF1000|   William Wright|  Lab Assistant|            68|                 52|                       6.2|              2|                     1.1|               0|              69|                6.6|                      2|\n",
            "| STF1001|       Diane Carr|Associate Prof.|            87|                 85|                       8.4|              0|                     7.5|               1|              92|                7.7|                      2|\n",
            "| STF1002|         Amy Shaw|    Admin Staff|            71|                 53|                       9.2|              3|                    19.1|               1|              64|                5.9|                      6|\n",
            "| STF1003|    Adriana Smith|  Lab Assistant|            83|                 82|                       6.7|              0|                     0.7|               2|              84|                5.1|                      1|\n",
            "| STF1004|      Jared Clark|  Lab Assistant|            96|                 56|                       6.2|              9|                    17.5|               2|              92|                3.5|                     15|\n",
            "| STF1005|      Mary Duncan|    Admin Staff|            76|                 88|                       5.8|              9|                    18.1|               0|              52|                7.0|                      8|\n",
            "| STF1006|  Christine Jones|            HOD|            83|                 77|                       8.7|              9|                    13.8|               2|              76|                4.8|                     14|\n",
            "| STF1007|   Kristen Briggs|    Admin Staff|            89|                 78|                       7.3|              5|                     0.8|               2|              52|                2.1|                      9|\n",
            "| STF1008|  Mark Carney DDS|  Lab Assistant|            95|                 96|                       6.7|              7|                     1.6|               3|              62|                7.2|                      3|\n",
            "| STF1009|  Patricia Romero|Assistant Prof.|            78|                 66|                       7.6|              2|                     1.4|               4|              74|                3.7|                      6|\n",
            "| STF1010|  Isaac Blackburn|    Admin Staff|            73|                 97|                       7.0|              3|                    18.6|               0|              87|                5.7|                      6|\n",
            "| STF1011|     Renee Sexton|    Admin Staff|            77|                 91|                       8.9|              5|                     7.6|               4|              84|                4.2|                      6|\n",
            "| STF1012|      David Lewis|  Lab Assistant|            91|                 50|                       7.5|              8|                     1.6|               3|              81|                4.2|                     19|\n",
            "| STF1013|   Sarah Williams|  Lab Assistant|            80|                 62|                      10.0|              7|                     9.8|               4|              99|                3.0|                      1|\n",
            "| STF1014|       Anna Oneal|          Clerk|            69|                 69|                       8.9|              7|                     3.0|               1|              87|                3.3|                     14|\n",
            "| STF1015|   Brittany Moore|      Professor|            95|                 84|                       8.2|              9|                     7.5|               1|              63|                4.4|                      7|\n",
            "| STF1016|      Cheryl Boyd|  Lab Assistant|            64|                 97|                       7.5|              0|                    16.2|               0|              91|                2.0|                      1|\n",
            "| STF1017|Kenneth Rodriguez|      Professor|            83|                 73|                       5.9|              8|                    18.3|               1|              85|                7.5|                      6|\n",
            "| STF1018|      David Burke|            HOD|            71|                 80|                       8.1|              1|                    16.0|               1|              98|                6.2|                      4|\n",
            "| STF1019|      Brian Brown|    Admin Staff|            85|                 94|                       5.8|              6|                    14.9|               0|              82|                5.2|                     14|\n",
            "+--------+-----------------+---------------+--------------+-------------------+--------------------------+---------------+------------------------+----------------+----------------+-------------------+-----------------------+\n",
            "only showing top 20 rows\n",
            "\n"
          ]
        }
      ]
    },
    {
      "cell_type": "markdown",
      "source": [
        "**Read excel file as pandas dataframe and converting it into spark DataFrame**"
      ],
      "metadata": {
        "id": "uL4UxUn9exOi"
      }
    },
    {
      "cell_type": "code",
      "source": [
        "df_pandas = pd.read_excel(\"/content/STUDENT INFO FOR MENTORS.xlsx\", sheet_name=\"Sheet1\")\n",
        "df_spark = spark.createDataFrame(df_pandas)\n",
        "df_spark.show()"
      ],
      "metadata": {
        "colab": {
          "base_uri": "https://localhost:8080/"
        },
        "id": "knqVQTKodzZq",
        "outputId": "e61cf488-6b71-45ae-8763-55890aff63df"
      },
      "execution_count": 24,
      "outputs": [
        {
          "output_type": "stream",
          "name": "stdout",
          "text": [
            "+----+---------------+-----------------+-------------+\n",
            "|S.NO|REGISTER NUMBER|     STUDENT NAME|   DEPARTMENT|\n",
            "+----+---------------+-----------------+-------------+\n",
            "|   1|       24BBT013|      KANIMOZHI R|Biotechnology|\n",
            "|   2|       24BBT028|      MERVINE K S|Biotechnology|\n",
            "|   3|       24BBT042|       PRASANNA Y|Biotechnology|\n",
            "|   4|       24BBT032|  SUMITHRA DEVI M|Biotechnology|\n",
            "|   5|       24BBT061|       VIKASINI K|Biotechnology|\n",
            "|   6|       23BCC012|   ANANYA MAITY G|   Commerce I|\n",
            "|   7|       23BCC060|HARIHARA SUDHAN A|   Commerce I|\n",
            "|   8|       23BPS040|         JITHIN J|   Commerce I|\n",
            "|   9|       23BPS041|         JULIAN Y|   Commerce I|\n",
            "|  10|       23BPS047|     MANISH RAJ S|   Commerce I|\n",
            "|  11|       23BPS036|           MANU J|   Commerce I|\n",
            "|  12|       23BPS033|     NOYAL MATHEW|   Commerce I|\n",
            "|  13|       23BPS026|         REEHAN J|   Commerce I|\n",
            "|  14|       23BPS018|          VIPIN S|   Commerce I|\n",
            "|  15|       24BCC024|    ABDUL KALAM S|   Commerce I|\n",
            "|  16|       24BCC094|       ABILASH  S|   Commerce I|\n",
            "|  17|       24BCC003|   ASHWIN KUMAR S|   Commerce I|\n",
            "|  18|       24BCC014|  BALAMURUGAN   J|   Commerce I|\n",
            "|  19|       24BCC039|       GOSALAI  G|   Commerce I|\n",
            "|  20|       24BCC095|MOHAMMAD RIYAS  A|   Commerce I|\n",
            "+----+---------------+-----------------+-------------+\n",
            "only showing top 20 rows\n",
            "\n"
          ]
        }
      ]
    }
  ]
}